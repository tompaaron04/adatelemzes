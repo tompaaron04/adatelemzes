{
    "metadata": {
        "kernelspec": {
            "name": "SQL",
            "display_name": "SQL",
            "language": "sql"
        },
        "language_info": {
            "name": "sql",
            "version": ""
        }
    },
    "nbformat_minor": 2,
    "nbformat": 4,
    "cells": [
        {
            "cell_type": "code",
            "source": [
                "SELECT\r\n",
                "    s.szoba_id,\r\n",
                "    s.ferohely,\r\n",
                "    DENSE_RANK() OVER (ORDER BY COUNT(f.foglalas_pk) DESC, s.ferohely ASC) AS helyezes\r\n",
                "FROM\r\n",
                "    Szoba s JOIN Foglalas f ON s.szoba_id = f.SZOBA_FK\r\n",
                "GROUP BY\r\n",
                "    s.szoba_id, s.ferohely\r\n",
                "ORDER BY\r\n",
                "    DENSE_RANK() OVER (ORDER BY COUNT(f.foglalas_pk) DESC, s.ferohely ASC)"
            ],
            "metadata": {
                "azdata_cell_guid": "fc6b498c-9582-4da3-a233-d59bdde02600",
                "language": "sql"
            },
            "outputs": [],
            "execution_count": null
        },
        {
            "cell_type": "code",
            "source": [
                "SELECT szallashely.SZALLAS_NEV, SUM(Foglalas.FELNOTT_SZAM+GYERMEK_SZAM) AS 'Össz foglalás'\r\n",
                "\r\n",
                "FROM szallashely INNER JOIN Szoba ON szallashely.SZALLAS_ID = szoba.SZALLAS_FK\r\n",
                "\r\n",
                "INNER JOIN Foglalas ON Foglalas.SZOBA_FK = Szoba.SZOBA_ID\r\n",
                "\r\n",
                "GROUP BY szallashely.SZALLAS_NEV\r\n",
                "\r\n",
                "HAVING SUM(Foglalas.FELNOTT_SZAM+GYERMEK_SZAM) = (SELECT TOP 1 SUM(Foglalas.FELNOTT_SZAM+GYERMEK_SZAM)\r\n",
                "\r\n",
                " FROM szallashely INNER JOIN Szoba ON szallashely.SZALLAS_ID = szoba.SZALLAS_FK\r\n",
                "\r\n",
                " INNER JOIN Foglalas ON Foglalas.SZOBA_FK = Szoba.SZOBA_ID\r\n",
                "\r\n",
                " GROUP BY szallashely.SZALLAS_NEV\r\n",
                "\r\n",
                "ORDER BY SUM(Foglalas.FELNOTT_SZAM+GYERMEK_SZAM) ASC)"
            ],
            "metadata": {
                "azdata_cell_guid": "6b7fa099-fabc-494b-a397-11a51df26061",
                "language": "sql"
            },
            "outputs": [
                {
                    "output_type": "display_data",
                    "data": {
                        "text/html": "(1 row affected)"
                    },
                    "metadata": {}
                },
                {
                    "output_type": "display_data",
                    "data": {
                        "text/html": "Total execution time: 00:00:00.010"
                    },
                    "metadata": {}
                },
                {
                    "output_type": "execute_result",
                    "metadata": {},
                    "execution_count": 49,
                    "data": {
                        "application/vnd.dataresource+json": {
                            "schema": {
                                "fields": [
                                    {
                                        "name": "SZALLAS_NEV"
                                    },
                                    {
                                        "name": "Össz foglalás"
                                    }
                                ]
                            },
                            "data": [
                                {
                                    "SZALLAS_NEV": "Családi Ház",
                                    "Össz foglalás": "52"
                                }
                            ]
                        },
                        "text/html": [
                            "<table>",
                            "<tr><th>SZALLAS_NEV</th><th>Össz foglalás</th></tr>",
                            "<tr><td>Családi Ház</td><td>52</td></tr>",
                            "</table>"
                        ]
                    }
                }
            ],
            "execution_count": 49
        }
    ]
}
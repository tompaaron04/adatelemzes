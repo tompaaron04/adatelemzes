{
    "metadata": {
        "kernelspec": {
            "name": "SQL",
            "display_name": "SQL",
            "language": "sql"
        },
        "language_info": {
            "name": "sql",
            "version": ""
        }
    },
    "nbformat_minor": 2,
    "nbformat": 4,
    "cells": [
        {
            "cell_type": "code",
            "source": [
                "SELECT MEGNEVEZES, LEIRAS\r\n",
                "FROM Termek"
            ],
            "metadata": {
                "azdata_cell_guid": "faafa34d-25c2-43a2-8a63-9893fb6aa723",
                "language": "sql",
                "tags": []
            },
            "outputs": [],
            "execution_count": null
        },
        {
            "cell_type": "markdown",
            "source": [
                "527 termékhez nem tartozik leírás."
            ],
            "metadata": {
                "azdata_cell_guid": "a098e48e-860e-430c-b8b6-18acd59bbc31"
            },
            "attachments": {}
        },
        {
            "cell_type": "code",
            "source": [
                "SELECT COUNT(*) AS Null_darabszam\r\n",
                "FROM Termek\r\n",
                "WHERE LEIRAS IS NULL;\r\n",
                ""
            ],
            "metadata": {
                "azdata_cell_guid": "b1127b41-f63f-4691-b24f-6e8270574324",
                "language": "sql",
                "tags": [
                    "hide_input"
                ]
            },
            "outputs": [
                {
                    "output_type": "display_data",
                    "data": {
                        "text/html": "(1 row affected)"
                    },
                    "metadata": {}
                },
                {
                    "output_type": "display_data",
                    "data": {
                        "text/html": "Total execution time: 00:00:00.062"
                    },
                    "metadata": {}
                },
                {
                    "output_type": "execute_result",
                    "metadata": {},
                    "execution_count": 15,
                    "data": {
                        "application/vnd.dataresource+json": {
                            "schema": {
                                "fields": [
                                    {
                                        "name": "Null_darabszam"
                                    }
                                ]
                            },
                            "data": [
                                {
                                    "Null_darabszam": "527"
                                }
                            ]
                        },
                        "text/html": [
                            "<table>",
                            "<tr><th>Null_darabszam</th></tr>",
                            "<tr><td>527</td></tr>",
                            "</table>"
                        ]
                    }
                }
            ],
            "execution_count": 15
        },
        {
            "cell_type": "markdown",
            "source": [
                "Fizetési módok darabszám és eloszlás.\n",
                "\n",
                "![](data:image/png;base64,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)"
            ],
            "metadata": {
                "azdata_cell_guid": "c2f1eeb4-6cd5-4544-be95-7c0a80f1b7ff"
            },
            "attachments": {}
        },
        {
            "cell_type": "code",
            "source": [
                "SELECT FIZ_MOD, COUNT(*) AS Darabszam,\r\n",
                "        (COUNT(*) * 100.0) / (SELECT COUNT(*) FROM Rendeles) AS szazalek\r\n",
                "FROM Rendeles\r\n",
                "GROUP BY FIZ_MOD\r\n",
                "ORDER BY darabszam DESC\r\n",
                ""
            ],
            "metadata": {
                "azdata_cell_guid": "dcf8de14-8e08-411d-bd20-3a8969087389",
                "language": "sql"
            },
            "outputs": [
                {
                    "output_type": "display_data",
                    "data": {
                        "text/html": "(3 rows affected)"
                    },
                    "metadata": {}
                },
                {
                    "output_type": "display_data",
                    "data": {
                        "text/html": "Total execution time: 00:00:00.110"
                    },
                    "metadata": {}
                },
                {
                    "output_type": "execute_result",
                    "metadata": {},
                    "execution_count": 17,
                    "data": {
                        "application/vnd.dataresource+json": {
                            "schema": {
                                "fields": [
                                    {
                                        "name": "FIZ_MOD"
                                    },
                                    {
                                        "name": "Darabszam"
                                    },
                                    {
                                        "name": "szazalek"
                                    }
                                ]
                            },
                            "data": [
                                {
                                    "FIZ_MOD": "Bankkártya",
                                    "Darabszam": "14003",
                                    "szazalek": "49.859355527861"
                                },
                                {
                                    "FIZ_MOD": "Átutalás",
                                    "Darabszam": "11284",
                                    "szazalek": "40.178030977390"
                                },
                                {
                                    "FIZ_MOD": "Készpénz",
                                    "Darabszam": "2798",
                                    "szazalek": "9.962613494748"
                                }
                            ]
                        },
                        "text/html": [
                            "<table>",
                            "<tr><th>FIZ_MOD</th><th>Darabszam</th><th>szazalek</th></tr>",
                            "<tr><td>Bankkártya</td><td>14003</td><td>49.859355527861</td></tr>",
                            "<tr><td>Átutalás</td><td>11284</td><td>40.178030977390</td></tr>",
                            "<tr><td>Készpénz</td><td>2798</td><td>9.962613494748</td></tr>",
                            "</table>"
                        ]
                    }
                }
            ],
            "execution_count": 17
        },
        {
            "cell_type": "markdown",
            "source": [
                "Mennyiségek átlaga és legnagyobb értéke."
            ],
            "metadata": {
                "azdata_cell_guid": "e85e2b38-3889-4502-9b61-646d0d4d6a1d"
            },
            "attachments": {}
        },
        {
            "cell_type": "code",
            "source": [
                "SELECT AVG(MENNYISEG),MAX(MENNYISEG) AS legnagyobb_ertek\r\n",
                "FROM Rendeles_tetel;\r\n",
                ""
            ],
            "metadata": {
                "azdata_cell_guid": "7a3ae9cc-c494-4f00-9056-1cd8f988422d",
                "language": "sql"
            },
            "outputs": [
                {
                    "output_type": "display_data",
                    "data": {
                        "text/html": "(1 row affected)"
                    },
                    "metadata": {}
                },
                {
                    "output_type": "display_data",
                    "data": {
                        "text/html": "Total execution time: 00:00:00.068"
                    },
                    "metadata": {}
                },
                {
                    "output_type": "execute_result",
                    "metadata": {},
                    "execution_count": 14,
                    "data": {
                        "application/vnd.dataresource+json": {
                            "schema": {
                                "fields": [
                                    {
                                        "name": "(No column name)"
                                    },
                                    {
                                        "name": "legnagyobb_ertek"
                                    }
                                ]
                            },
                            "data": [
                                {
                                    "(No column name)": "39,2081456559974",
                                    "legnagyobb_ertek": "90"
                                }
                            ]
                        },
                        "text/html": [
                            "<table>",
                            "<tr><th>(No column name)</th><th>legnagyobb_ertek</th></tr>",
                            "<tr><td>39,2081456559974</td><td>90</td></tr>",
                            "</table>"
                        ]
                    }
                }
            ],
            "execution_count": 14
        }
    ]
}